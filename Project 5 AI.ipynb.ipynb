{
  "nbformat": 4,
  "nbformat_minor": 0,
  "metadata": {
    "colab": {
      "provenance": [],
      "toc_visible": true
    },
    "kernelspec": {
      "name": "python3",
      "display_name": "Python 3"
    },
    "language_info": {
      "name": "python"
    }
  },
  "cells": [
    {
      "cell_type": "code",
      "source": [
        "import nltk\n",
        "import string\n",
        "import re\n",
        "from sklearn.datasets import fetch_20newsgroups\n",
        "from nltk.corpus import stopwords\n",
        "from nltk.tokenize import word_tokenize\n",
        "\n",
        "# Download necessary NLTK resources\n",
        "nltk.download('punkt')\n",
        "nltk.download('stopwords')\n",
        "nltk.download('punkt_tab')\n",
        "\n",
        "# Load 20 Newsgroups dataset (use 'all' for full dataset or 'train'/'test' for subsets)\n",
        "newsgroups = fetch_20newsgroups(subset='all', remove=('headers', 'footers', 'quotes'))\n",
        "texts = newsgroups.data\n",
        "targets = newsgroups.target\n",
        "\n",
        "# Define stopwords\n",
        "stop_words = set(stopwords.words('english'))\n",
        "\n",
        "# Text preprocessing function\n",
        "def preprocess(text):\n",
        "    # Lowercase\n",
        "    text = text.lower()\n",
        "    # Remove punctuation\n",
        "    text = text.translate(str.maketrans('', '', string.punctuation))\n",
        "    # Tokenize\n",
        "    tokens = word_tokenize(text)\n",
        "    # Remove stopwords and non-alphabetic tokens\n",
        "    cleaned = [word for word in tokens if word.isalpha() and word not in stop_words]\n",
        "    return ' '.join(cleaned)\n",
        "\n",
        "# Apply preprocessing (for demo, limit to first 100 documents)\n",
        "cleaned_texts = [preprocess(doc) for doc in texts[:100]]\n",
        "\n",
        "# Display a sample\n",
        "print(\"Original:\\n\", texts[0][:300], \"\\n\")\n",
        "print(\"Cleaned:\\n\", cleaned_texts[0][:300])"
      ],
      "metadata": {
        "colab": {
          "base_uri": "https://localhost:8080/"
        },
        "id": "-de19JV5T2J-",
        "outputId": "3e34dd66-4f51-48b9-e4f7-0be3d1f31e25"
      },
      "execution_count": 3,
      "outputs": [
        {
          "output_type": "stream",
          "name": "stderr",
          "text": [
            "[nltk_data] Downloading package punkt to /root/nltk_data...\n",
            "[nltk_data]   Package punkt is already up-to-date!\n",
            "[nltk_data] Downloading package stopwords to /root/nltk_data...\n",
            "[nltk_data]   Package stopwords is already up-to-date!\n",
            "[nltk_data] Downloading package punkt_tab to /root/nltk_data...\n",
            "[nltk_data]   Package punkt_tab is already up-to-date!\n"
          ]
        },
        {
          "output_type": "stream",
          "name": "stdout",
          "text": [
            "Original:\n",
            " \n",
            "\n",
            "I am sure some bashers of Pens fans are pretty confused about the lack\n",
            "of any kind of posts about the recent Pens massacre of the Devils. Actually,\n",
            "I am  bit puzzled too and a bit relieved. However, I am going to put an end\n",
            "to non-PIttsburghers' relief with a bit of praise for the Pens. Man, they\n",
            " \n",
            "\n",
            "Cleaned:\n",
            " sure bashers pens fans pretty confused lack kind posts recent pens massacre devils actually bit puzzled bit relieved however going put end nonpittsburghers relief bit praise pens man killing devils worse thought jagr showed much better regular season stats also lot fo fun watch playoffs bowman let j\n"
          ]
        }
      ]
    },
    {
      "cell_type": "code",
      "source": [
        "from sklearn.feature_extraction.text import CountVectorizer, TfidfVectorizer\n",
        "import numpy as np\n",
        "\n",
        "# Assuming `cleaned_texts` is your list of preprocessed documents\n",
        "\n",
        "# 1. Bag of Words\n",
        "bow_vectorizer = CountVectorizer(max_features=1000)\n",
        "X_bow = bow_vectorizer.fit_transform(cleaned_texts)\n",
        "\n",
        "print(\"Bag of Words shape:\", X_bow.shape)\n",
        "\n",
        "# 2. TF-IDF\n",
        "tfidf_vectorizer = TfidfVectorizer(max_features=1000)\n",
        "X_tfidf = tfidf_vectorizer.fit_transform(cleaned_texts)\n",
        "\n",
        "print(\"TF-IDF shape:\", X_tfidf.shape)\n"
      ],
      "metadata": {
        "colab": {
          "base_uri": "https://localhost:8080/"
        },
        "id": "H37T5gJTT2Gr",
        "outputId": "07d87063-3c92-4834-c6fa-08359ac578d1"
      },
      "execution_count": 4,
      "outputs": [
        {
          "output_type": "stream",
          "name": "stdout",
          "text": [
            "Bag of Words shape: (100, 1000)\n",
            "TF-IDF shape: (100, 1000)\n"
          ]
        }
      ]
    },
    {
      "cell_type": "code",
      "source": [
        "import os\n",
        "\n",
        "# Define the path to the GloVe file\n",
        "glove_file = \"glove.6B.100d.txt\"\n",
        "\n",
        "# Check if the file already exists, if not, download it\n",
        "if not os.path.exists(glove_file):\n",
        "    !wget http://nlp.stanford.edu/data/glove.6B.zip\n",
        "    !unzip glove.6B.zip\n",
        "    !rm glove.6B.zip"
      ],
      "metadata": {
        "colab": {
          "base_uri": "https://localhost:8080/"
        },
        "id": "oSTldcVhU3zi",
        "outputId": "4dc0ff04-073b-4d3d-ad49-bc1ef3f5113e"
      },
      "execution_count": 6,
      "outputs": [
        {
          "output_type": "stream",
          "name": "stdout",
          "text": [
            "--2025-07-07 00:40:14--  http://nlp.stanford.edu/data/glove.6B.zip\n",
            "Resolving nlp.stanford.edu (nlp.stanford.edu)... 171.64.67.140\n",
            "Connecting to nlp.stanford.edu (nlp.stanford.edu)|171.64.67.140|:80... connected.\n",
            "HTTP request sent, awaiting response... 302 Found\n",
            "Location: https://nlp.stanford.edu/data/glove.6B.zip [following]\n",
            "--2025-07-07 00:40:14--  https://nlp.stanford.edu/data/glove.6B.zip\n",
            "Connecting to nlp.stanford.edu (nlp.stanford.edu)|171.64.67.140|:443... connected.\n",
            "HTTP request sent, awaiting response... 301 Moved Permanently\n",
            "Location: https://downloads.cs.stanford.edu/nlp/data/glove.6B.zip [following]\n",
            "--2025-07-07 00:40:15--  https://downloads.cs.stanford.edu/nlp/data/glove.6B.zip\n",
            "Resolving downloads.cs.stanford.edu (downloads.cs.stanford.edu)... 171.64.64.22\n",
            "Connecting to downloads.cs.stanford.edu (downloads.cs.stanford.edu)|171.64.64.22|:443... connected.\n",
            "HTTP request sent, awaiting response... 200 OK\n",
            "Length: 862182613 (822M) [application/zip]\n",
            "Saving to: ‘glove.6B.zip’\n",
            "\n",
            "glove.6B.zip        100%[===================>] 822.24M  5.01MB/s    in 2m 39s  \n",
            "\n",
            "2025-07-07 00:42:54 (5.16 MB/s) - ‘glove.6B.zip’ saved [862182613/862182613]\n",
            "\n",
            "Archive:  glove.6B.zip\n",
            "  inflating: glove.6B.50d.txt        \n",
            "  inflating: glove.6B.100d.txt       \n",
            "  inflating: glove.6B.200d.txt       \n",
            "  inflating: glove.6B.300d.txt       \n"
          ]
        }
      ]
    },
    {
      "cell_type": "code",
      "source": [
        "# Load GloVe embeddings (example path)\n",
        "embedding_index = {}\n",
        "with open(\"glove.6B.100d.txt\", encoding='utf8') as f:\n",
        "    for line in f:\n",
        "        values = line.split()\n",
        "        word = values[0]\n",
        "        vector = np.asarray(values[1:], dtype='float32')\n",
        "        embedding_index[word] = vector\n",
        "\n",
        "print(f\"Loaded {len(embedding_index)} word vectors from GloVe.\")\n",
        "\n",
        "# Average word embeddings for each document\n",
        "def get_avg_embedding(doc):\n",
        "    words = doc.split()\n",
        "    valid_vectors = [embedding_index[word] for word in words if word in embedding_index]\n",
        "    if valid_vectors:\n",
        "        return np.mean(valid_vectors, axis=0)\n",
        "    else:\n",
        "        return np.zeros(100)\n",
        "\n",
        "X_embed = np.array([get_avg_embedding(doc) for doc in cleaned_texts])\n",
        "\n",
        "print(\"Embeddings shape:\", X_embed.shape)\n"
      ],
      "metadata": {
        "colab": {
          "base_uri": "https://localhost:8080/"
        },
        "id": "699G6EifT2DS",
        "outputId": "f6ec9b9c-863c-4489-c553-6e4d91ddc730"
      },
      "execution_count": 7,
      "outputs": [
        {
          "output_type": "stream",
          "name": "stdout",
          "text": [
            "Loaded 400000 word vectors from GloVe.\n",
            "Embeddings shape: (100, 100)\n"
          ]
        }
      ]
    },
    {
      "cell_type": "code",
      "source": [
        "from sklearn.cluster import KMeans\n",
        "from sklearn.metrics import silhouette_score\n",
        "import numpy as np\n",
        "\n",
        "# Apply K-Means\n",
        "k = 10  # You can change this\n",
        "kmeans = KMeans(n_clusters=k, random_state=42)\n",
        "kmeans_labels = kmeans.fit_predict(X_tfidf)\n",
        "\n",
        "# Evaluation\n",
        "sil_score = silhouette_score(X_tfidf, kmeans_labels)\n",
        "print(f\"Silhouette Score (TF-IDF + KMeans, k={k}): {sil_score:.4f}\")\n"
      ],
      "metadata": {
        "colab": {
          "base_uri": "https://localhost:8080/"
        },
        "id": "_roV8BbaT2AD",
        "outputId": "38565de0-cf6b-4284-a383-188ad3573f4c"
      },
      "execution_count": 8,
      "outputs": [
        {
          "output_type": "stream",
          "name": "stdout",
          "text": [
            "Silhouette Score (TF-IDF + KMeans, k=10): -0.0022\n"
          ]
        }
      ]
    },
    {
      "cell_type": "code",
      "source": [
        "# Get feature names\n",
        "terms = tfidf_vectorizer.get_feature_names_out()\n",
        "order_centroids = kmeans.cluster_centers_.argsort()[:, ::-1]\n",
        "\n",
        "print(\"\\nTop words per cluster:\")\n",
        "for i in range(k):\n",
        "    print(f\"Cluster {i}: \", end='')\n",
        "    top_terms = [terms[ind] for ind in order_centroids[i, :10]]\n",
        "    print(\", \".join(top_terms))\n"
      ],
      "metadata": {
        "colab": {
          "base_uri": "https://localhost:8080/"
        },
        "id": "M-FeNE6XWZPA",
        "outputId": "78bf5bf7-16ad-44a2-9bba-6553c2dcb0a5"
      },
      "execution_count": 9,
      "outputs": [
        {
          "output_type": "stream",
          "name": "stdout",
          "text": [
            "\n",
            "Top words per cluster:\n",
            "Cluster 0: government, deleted, turkey, independent, private, cross, david, blue, way, served\n",
            "Cluster 1: distribution, use, irq, comes, enough, tolerance, question, low, article, send\n",
            "Cluster 2: started, another, may, amiga, acetone, one, original, mek, support, time\n",
            "Cluster 3: anyone, bus, card, vmode, vesa, pro, email, local, eisa, ati\n",
            "Cluster 4: etc, server, thanks, looking, anybody, address, years, last, year, looked\n",
            "Cluster 5: system, channel, sound, one, bob, use, iisi, know, pens, using\n",
            "Cluster 6: speed, run, believe, one, would, nice, components, apps, qualcomm, drive\n",
            "Cluster 7: would, dont, rear, seem, kaan, time, detectors, radar, get, kryptonite\n",
            "Cluster 8: either, even, used, app, blood, basketball, schools, school, sec, title\n",
            "Cluster 9: history, law, say, light, dave, sabbath, put, oilers, example, points\n"
          ]
        }
      ]
    },
    {
      "cell_type": "code",
      "source": [
        "# Apply KMeans on averaged GloVe embeddings\n",
        "kmeans_embed = KMeans(n_clusters=k, random_state=42)\n",
        "kmeans_embed_labels = kmeans_embed.fit_predict(X_embed)\n",
        "\n",
        "# Evaluate\n",
        "sil_embed = silhouette_score(X_embed, kmeans_embed_labels)\n",
        "print(f\"Silhouette Score (Word Embeddings + KMeans, k={k}): {sil_embed:.4f}\")\n"
      ],
      "metadata": {
        "colab": {
          "base_uri": "https://localhost:8080/"
        },
        "id": "zoW9FxxGWZMZ",
        "outputId": "0fe77543-d1bd-4d9b-dddf-84b340fd39e6"
      },
      "execution_count": 10,
      "outputs": [
        {
          "output_type": "stream",
          "name": "stdout",
          "text": [
            "Silhouette Score (Word Embeddings + KMeans, k=10): 0.0205\n"
          ]
        }
      ]
    },
    {
      "cell_type": "code",
      "source": [
        "from scipy.cluster.hierarchy import linkage, dendrogram\n",
        "import matplotlib.pyplot as plt\n",
        "\n",
        "# Hierarchical clustering on first 100 documents\n",
        "subset = X_tfidf[:100].toarray()\n",
        "\n",
        "linkage_matrix = linkage(subset, method='ward')\n",
        "plt.figure(figsize=(12, 6))\n",
        "dendrogram(linkage_matrix, truncate_mode='lastp', p=10)\n",
        "plt.title(\"Hierarchical Clustering Dendrogram (TF-IDF, subset)\")\n",
        "plt.xlabel(\"Cluster Size\")\n",
        "plt.ylabel(\"Distance\")\n",
        "plt.show()\n"
      ],
      "metadata": {
        "colab": {
          "base_uri": "https://localhost:8080/",
          "height": 568
        },
        "id": "vCuPn4VtW5Et",
        "outputId": "0a2f98eb-7786-4df5-d1ad-5105434658b2"
      },
      "execution_count": 11,
      "outputs": [
        {
          "output_type": "display_data",
          "data": {
            "text/plain": [
              "<Figure size 1200x600 with 1 Axes>"
            ],
            "image/png": "[encoded data removed]"
          },
          "metadata": {}
        }
      ]
    },
    {
      "cell_type": "code",
      "source": [
        "#  Step 1: Preprocess & Train on Initial Data\n",
        "\n",
        "from sklearn.datasets import fetch_20newsgroups\n",
        "from sklearn.feature_extraction.text import TfidfVectorizer\n",
        "from sklearn.cluster import KMeans\n",
        "from sklearn.metrics import silhouette_score\n",
        "import re, string\n",
        "\n",
        "# Load dataset (for training)\n",
        "newsgroups_train = fetch_20newsgroups(subset='train', remove=('headers', 'footers', 'quotes'))\n",
        "texts_train = newsgroups_train.data[:2000]  # Use 2000 docs for speed\n",
        "\n",
        "# Simple preprocessing\n",
        "def preprocess(text):\n",
        "    text = text.lower()\n",
        "    text = re.sub(f\"[{re.escape(string.punctuation)}]\", \"\", text)\n",
        "    words = text.split()\n",
        "    stopwords = set([\n",
        "        'the', 'is', 'in', 'it', 'of', 'and', 'to', 'a', 'for', 'on', 'that', 'this',\n",
        "        'with', 'as', 'are', 'was', 'at', 'by', 'an', 'be', 'have', 'from', 'or',\n",
        "        'but', 'not', 'you', 'they', 'we', 'can', 'all', 'has', 'will', 'if', 'about'\n",
        "    ])\n",
        "    return ' '.join([w for w in words if w.isalpha() and w not in stopwords])\n",
        "\n",
        "texts_train_clean = [preprocess(text) for text in texts_train]\n",
        "\n",
        "# TF-IDF vectorization\n",
        "vectorizer = TfidfVectorizer(max_features=1000)\n",
        "X_train_tfidf = vectorizer.fit_transform(texts_train_clean)\n",
        "\n",
        "# KMeans clustering\n",
        "k = 10\n",
        "kmeans = KMeans(n_clusters=k, random_state=42)\n",
        "train_labels = kmeans.fit_predict(X_train_tfidf)\n",
        "\n",
        "# Evaluate\n",
        "sil_score_train = silhouette_score(X_train_tfidf, train_labels)\n",
        "print(f\"Silhouette Score (train, k={k}): {sil_score_train:.4f}\")\n"
      ],
      "metadata": {
        "colab": {
          "base_uri": "https://localhost:8080/"
        },
        "id": "zQw4P2gDW5CI",
        "outputId": "e55b2116-00f6-4053-a12d-ce24fb53211d"
      },
      "execution_count": 12,
      "outputs": [
        {
          "output_type": "stream",
          "name": "stdout",
          "text": [
            "Silhouette Score (train, k=10): -0.0298\n"
          ]
        }
      ]
    },
    {
      "cell_type": "code",
      "source": [
        "# Step 2: Prepare Unseen Test Documents\n",
        "\n",
        "# Load test dataset (unseen docs)\n",
        "newsgroups_test = fetch_20newsgroups(subset='test', remove=('headers', 'footers', 'quotes'))\n",
        "texts_test = newsgroups_test.data[:5]  # Test on 5 documents\n",
        "texts_test_clean = [preprocess(text) for text in texts_test]\n",
        "\n",
        "# Transform using previously fitted vectorizer\n",
        "X_test_tfidf = vectorizer.transform(texts_test_clean)\n",
        "\n",
        "# Predict clusters for new docs\n",
        "predicted_clusters = kmeans.predict(X_test_tfidf)\n",
        "\n",
        "# Output predictions\n",
        "for i, (doc, cluster) in enumerate(zip(texts_test, predicted_clusters)):\n",
        "    print(f\"\\nDoc {i+1} assigned to Cluster {cluster}\")\n",
        "    print(doc[:300], \"\\n---\")\n"
      ],
      "metadata": {
        "colab": {
          "base_uri": "https://localhost:8080/"
        },
        "id": "t8REeOSsW4_K",
        "outputId": "9c537243-e8ef-487e-f834-bbf19d82a7dc"
      },
      "execution_count": 13,
      "outputs": [
        {
          "output_type": "stream",
          "name": "stdout",
          "text": [
            "\n",
            "Doc 1 assigned to Cluster 2\n",
            "I am a little confused on all of the models of the 88-89 bonnevilles.\n",
            "I have heard of the LE SE LSE SSE SSEI. Could someone tell me the\n",
            "differences are far as features or performance. I am also curious to\n",
            "know what the book value is for prefereably the 89 model. And how much\n",
            "less than book value can \n",
            "---\n",
            "\n",
            "Doc 2 assigned to Cluster 2\n",
            "I'm not familiar at all with the format of these \"X-Face:\" thingies, but\n",
            "after seeing them in some folks' headers, I've *got* to *see* them (and\n",
            "maybe make one of my own)!\n",
            "\n",
            "I've got \"dpg-view\" on my Linux box (which displays \"uncompressed X-Faces\")\n",
            "and I've managed to compile [un]compface too... but \n",
            "---\n",
            "\n",
            "Doc 3 assigned to Cluster 2\n",
            "\n",
            "In a word, yes.\n",
            " \n",
            "---\n",
            "\n",
            "Doc 4 assigned to Cluster 2\n",
            "\n",
            "They were attacking the Iraqis to drive them out of Kuwait,\n",
            "a country whose citizens have close blood and business ties\n",
            "to Saudi citizens.  And me thinks if the US had not helped out\n",
            "the Iraqis would have swallowed Saudi Arabia, too (or at \n",
            "least the eastern oilfields).  And no Muslim country was d \n",
            "---\n",
            "\n",
            "Doc 5 assigned to Cluster 2\n",
            "\n",
            "I've just spent two solid months arguing that no such thing as an\n",
            "objective moral system exists. \n",
            "---\n"
          ]
        }
      ]
    },
    {
      "cell_type": "code",
      "source": [
        "# Step 3: Evaluate Fit (Distance to Centroids)\n",
        "\n",
        "# Show distances from new docs to all cluster centroids\n",
        "distances = kmeans.transform(X_test_tfidf)\n",
        "\n",
        "for i, dist in enumerate(distances):\n",
        "    print(f\"\\nDoc {i+1} distances to centroids:\")\n",
        "    for j, d in enumerate(dist):\n",
        "        print(f\"  Cluster {j}: {d:.4f}\")\n"
      ],
      "metadata": {
        "colab": {
          "base_uri": "https://localhost:8080/"
        },
        "id": "PJtw3_yDW48Z",
        "outputId": "71f3d8a7-8fb2-4c84-92fd-03fee5c865fd"
      },
      "execution_count": 14,
      "outputs": [
        {
          "output_type": "stream",
          "name": "stdout",
          "text": [
            "\n",
            "Doc 1 distances to centroids:\n",
            "  Cluster 0: 1.3988\n",
            "  Cluster 1: 1.3855\n",
            "  Cluster 2: 0.9735\n",
            "  Cluster 3: 1.2439\n",
            "  Cluster 4: 1.3347\n",
            "  Cluster 5: 1.2944\n",
            "  Cluster 6: 1.3170\n",
            "  Cluster 7: 1.3923\n",
            "  Cluster 8: 1.3545\n",
            "  Cluster 9: 1.4142\n",
            "\n",
            "Doc 2 distances to centroids:\n",
            "  Cluster 0: 1.4000\n",
            "  Cluster 1: 1.3479\n",
            "  Cluster 2: 0.9506\n",
            "  Cluster 3: 1.3948\n",
            "  Cluster 4: 1.3137\n",
            "  Cluster 5: 1.3617\n",
            "  Cluster 6: 1.3209\n",
            "  Cluster 7: 1.4049\n",
            "  Cluster 8: 1.2819\n",
            "  Cluster 9: 1.3945\n",
            "\n",
            "Doc 3 distances to centroids:\n",
            "  Cluster 0: 1.4142\n",
            "  Cluster 1: 1.4142\n",
            "  Cluster 2: 1.0131\n",
            "  Cluster 3: 1.4142\n",
            "  Cluster 4: 1.3347\n",
            "  Cluster 5: 1.4142\n",
            "  Cluster 6: 1.3209\n",
            "  Cluster 7: 1.4142\n",
            "  Cluster 8: 1.4142\n",
            "  Cluster 9: 1.4142\n",
            "\n",
            "Doc 4 distances to centroids:\n",
            "  Cluster 0: 1.3329\n",
            "  Cluster 1: 1.2347\n",
            "  Cluster 2: 0.9291\n",
            "  Cluster 3: 1.3920\n",
            "  Cluster 4: 1.2950\n",
            "  Cluster 5: 1.2781\n",
            "  Cluster 6: 1.3106\n",
            "  Cluster 7: 1.4032\n",
            "  Cluster 8: 1.2963\n",
            "  Cluster 9: 1.2671\n",
            "\n",
            "Doc 5 distances to centroids:\n",
            "  Cluster 0: 1.4142\n",
            "  Cluster 1: 1.3778\n",
            "  Cluster 2: 0.9915\n",
            "  Cluster 3: 1.4142\n",
            "  Cluster 4: 1.2697\n",
            "  Cluster 5: 1.4142\n",
            "  Cluster 6: 1.3016\n",
            "  Cluster 7: 1.4142\n",
            "  Cluster 8: 1.4142\n",
            "  Cluster 9: 1.4142\n"
          ]
        }
      ]
    },
    {
      "cell_type": "code",
      "source": [
        "terms = vectorizer.get_feature_names_out()\n",
        "order_centroids = kmeans.cluster_centers_.argsort()[:, ::-1]\n",
        "for i in range(k):\n",
        "    top = [terms[ind] for ind in order_centroids[i, :10]]\n",
        "    print(f\"Cluster {i}: {', '.join(top)}\")"
      ],
      "metadata": {
        "colab": {
          "base_uri": "https://localhost:8080/"
        },
        "id": "6OBEZaAsWZJh",
        "outputId": "89e5c63c-3979-4911-e5d2-1bcb767b9072"
      },
      "execution_count": 15,
      "outputs": [
        {
          "output_type": "stream",
          "name": "stdout",
          "text": [
            "Cluster 0: armenians, turkish, event, supported, family, policy, members, million, thank, period\n",
            "Cluster 1: government, press, must, public, based, people, vs, search, since, exist\n",
            "Cluster 2: my, would, there, your, any, what, me, do, he, one\n",
            "Cluster 3: heard, true, recently, chip, interesting, hi, own, same, goes, gods\n",
            "Cluster 4: must, laws, so, groups, some, live, back, such, why, system\n",
            "Cluster 5: book, remember, come, true, his, he, people, wrote, half, bought\n",
            "Cluster 6: period, pp, play, third, power, second, no, first, red, st\n",
            "Cluster 7: parts, line, also, supply, worth, driver, cost, wont, guess, available\n",
            "Cluster 8: anyone, me, help, email, any, used, please, very, could, does\n",
            "Cluster 9: religious, rights, his, going, genocide, washington, dc, who, clinton, bill\n"
          ]
        }
      ]
    },
    {
      "cell_type": "code",
      "source": [],
      "metadata": {
        "id": "F5vsaStuaEHo"
      },
      "execution_count": null,
      "outputs": []
    },
    {
      "cell_type": "code",
      "source": [],
      "metadata": {
        "id": "JDk2ndOTaEFC"
      },
      "execution_count": null,
      "outputs": []
    },
    {
      "cell_type": "code",
      "source": [],
      "metadata": {
        "id": "81XXp-u0aEBs"
      },
      "execution_count": null,
      "outputs": []
    },
    {
      "cell_type": "code",
      "source": [],
      "metadata": {
        "id": "0mwUCiFfWZG8"
      },
      "execution_count": null,
      "outputs": []
    }
  ]
}